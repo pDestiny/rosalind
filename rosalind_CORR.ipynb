{
 "cells": [
  {
   "cell_type": "markdown",
   "metadata": {
    "collapsed": false
   },
   "source": [
    "# Problem\n",
    "\n",
    "**Given**: A collection of up to 1000reads of equal length (at most 50bp) in FASTA format. Some of these reads were generated with single-nt error. For each read $s$ in the dataset, one of the following applies.\n",
    "\n",
    "* $s$ was correctly sequenced and appears in the datasets at least twice (possibly as a reverse complement)\n",
    "* $s$ is incorrect, it appears in the dataset exactly once, and its Hamming distance is 1 with respect to exactly one correct read in the dataset(or its reverse complement)\n",
    "\n",
    "**Return**: A list of all corrections in the form \"\\[old-read\\]->\\[new-read\\]\". (Each correction must be single symbol substitution, and you may return the corrections in any order"
   ]
  },
  {
   "cell_type": "code",
   "execution_count": 2,
   "metadata": {
    "collapsed": false,
    "pycharm": {
     "name": "#%%\n"
    }
   },
   "outputs": [],
   "source": [
    "import toolz as tz\n",
    "from toolz.curried import *\n",
    "from operator import *\n",
    "import pandas as pd\n",
    "import numpy as np"
   ]
  },
  {
   "cell_type": "code",
   "execution_count": null,
   "metadata": {
    "collapsed": true
   },
   "outputs": [],
   "source": [
    "input_data = {\n",
    "    \"sample\": {\n",
    "        \"fasta\": \"\"\">Rosalind_52\n",
    "TCATC\n",
    ">Rosalind_44\n",
    "TTCAT\n",
    ">Rosalind_68\n",
    "TCATC\n",
    ">Rosalind_28\n",
    "TGAAA\n",
    ">Rosalind_95\n",
    "GAGGA\n",
    ">Rosalind_66\n",
    "TTTCA\n",
    ">Rosalind_33\n",
    "ATCAA\n",
    ">Rosalind_21\n",
    "TTGAT\n",
    ">Rosalind_18\n",
    "TTTCC\"\"\"\n",
    "    },\n",
    "    \"test\": {\n",
    "        \"fasta\": open(\"data/rosalind_corr.txt\", \"r\").read()\n",
    "    }\n",
    "}\n",
    "\n",
    "cur_state = \"test\"\n",
    "cur_data = input_data[cur_state]\n",
    "\n",
    "replace = {\n",
    "    \"A\": \"T\",\n",
    "    \"T\": \"A\",\n",
    "    \"C\": \"G\",\n",
    "    \"G\": \"C\"\n",
    "}\n",
    "\n",
    "input_processor = compose(list, filter(lambda x: not x.startswith(\">\")), flip(str.split,  \"\\n\"), str.strip)\n",
    "\n",
    "hamming_distance = lambda a, b: reduce(lambda init, cur: init + int(ne(*cur)), zip(a,b), 0)\n",
    "\n",
    "rev_seq = lambda x: ''.join(reversed([replace[nt] for nt in x]))\n",
    "\n",
    "def find_correct(seqs):\n",
    "    correct = []\n",
    "    for i, seq_i in enumerate(seqs):\n",
    "        for seq_j in seqs[:i] + seqs[i+1: ]:\n",
    "            if seq_i == seq_j:\n",
    "                correct.append(seq_i)\n",
    "            elif seq_i == rev_seq(seq_j):\n",
    "                correct.extend([seq_i, seq_j])\n",
    "    return set(correct), seqs\n",
    "\n",
    "def find_error(datapacakge):\n",
    "    correct, seqs = datapacakge\n",
    "    errors = set(seqs).difference(correct)\n",
    "    return correct, errors\n",
    "\n",
    "def correction(datapacakge):\n",
    "    correct, errors = datapacakge\n",
    "    pairs = []\n",
    "    for error in errors:\n",
    "        cor = first([cor for cor in correct if hamming_distance(cor, error) == 1 or hamming_distance(rev_seq(cor), error) == 1])\n",
    "        if hamming_distance(error, cor) == 1:\n",
    "            pairs.append((error, cor))\n",
    "        elif hamming_distance(error, rev_seq(cor)) == 1:\n",
    "            pairs.append((error, rev_seq(cor)))\n",
    "    return pairs\n",
    "\n",
    "def print_pair(pairs):\n",
    "    return reduce(lambda init, cur: init + \"{}->{}\".format(*cur) + \"\\n\", pairs, \"\")[:-1]\n",
    "\n",
    "run = compose(print_pair, correction, find_error, find_correct, input_processor)\n",
    "\n",
    "result = run(cur_data[\"fasta\"])\n",
    "print(result)"
   ]
  }
 ],
 "metadata": {
  "kernelspec": {
   "display_name": "Python 3",
   "language": "python",
   "name": "python3"
  },
  "language_info": {
   "codemirror_mode": {
    "name": "ipython",
    "version": 3
   },
   "file_extension": ".py",
   "mimetype": "text/x-python",
   "name": "python",
   "nbconvert_exporter": "python",
   "pygments_lexer": "ipython3",
   "version": "3.8.5"
  }
 },
 "nbformat": 4,
 "nbformat_minor": 2
}
