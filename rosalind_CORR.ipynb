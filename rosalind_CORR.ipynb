{
 "cells": [
  {
   "cell_type": "markdown",
   "source": [
    "# Problem\n",
    "\n",
    "**Given**: A collection of up to 1000reads of equal length (at most 50bp) in FASTA format. Some of these reads were generated with single-nt error. For each read $s$ in the dataset, one of the following applies.\n",
    "\n",
    "* $s$ was correctly sequenced and appears in the datasets at least twice (possibly as a reverse complement)\n",
    "* $s$ is incorrect, it appears in the dataset exactly once, and its Hamming distance is 1 with respect to exactly one correct read in the dataset(or its reverse complement)\n",
    "\n",
    "**Return**: A list of all corrections in the form \"\\[old-read\\]->\\[new-read\\]\". (Each correction must be single symbol substitution, and you may return the corrections in any order"
   ],
   "metadata": {
    "collapsed": false
   }
  },
  {
   "cell_type": "code",
   "execution_count": 21,
   "outputs": [],
   "source": [
    "import toolz as tz\n",
    "from toolz.curried import *\n",
    "from operator import *\n",
    "import networkx as nx\n",
    "from itertools import combinations\n",
    "import matplotlib.pyplot as plt\n",
    "import matplotlib\n",
    "from copy import deepcopy\n",
    "from itertools import cycle"
   ],
   "metadata": {
    "collapsed": false,
    "pycharm": {
     "name": "#%%\n"
    }
   }
  },
  {
   "cell_type": "code",
   "execution_count": 35,
   "metadata": {
    "collapsed": true
   },
   "outputs": [
    {
     "name": "stdout",
     "output_type": "stream",
     "text": [
      "12 12\n"
     ]
    }
   ],
   "source": [
    "input_data = {\n",
    "    \"sample\": {\n",
    "        \"fasta\": \"\"\">Rosalind_52\n",
    "TCATC\n",
    ">Rosalind_44\n",
    "TTCAT\n",
    ">Rosalind_68\n",
    "TCATC\n",
    ">Rosalind_28\n",
    "TGAAA\n",
    ">Rosalind_95\n",
    "GAGGA\n",
    ">Rosalind_66\n",
    "TTTCA\n",
    ">Rosalind_33\n",
    "ATCAA\n",
    ">Rosalind_21\n",
    "TTGAT\n",
    ">Rosalind_18\n",
    "TTTCC\"\"\"\n",
    "    }\n",
    "}\n",
    "\n",
    "cur_state = \"sample\"\n",
    "cur_data = input_data[cur_state]\n",
    "\n",
    "replace = {\n",
    "    \"A\": \"T\",\n",
    "    \"T\": \"A\",\n",
    "    \"C\": \"G\",\n",
    "    \"G\": \"C\"\n",
    "}\n",
    "\n",
    "input_processor = compose(list, filter(lambda x: not x.startswith(\">\")), flip(str.split,  \"\\n\"), str.strip)\n",
    "\n",
    "hamming_distance = lambda a, b: reduce(lambda init, cur: init + int(ne(*cur)), zip(a,b), 0)\n",
    "\n",
    "rev_seq = lambda x: ''.join(reversed([replace[nt] for nt in x]))\n",
    "\n",
    "def make_graph(seqs):\n",
    "    g = nx.Graph()\n",
    "\n",
    "\n",
    "    return g, seqs\n",
    "\n",
    "def correct_error(data):\n",
    "    g, seqs = data\n",
    "\n",
    "\n",
    "\n",
    "\n",
    "\n",
    "run = compose(correct_error, make_graph, input_processor)\n",
    "\n",
    "run(cur_data[\"fasta\"])"
   ]
  },
  {
   "cell_type": "code",
   "execution_count": 36,
   "outputs": [
    {
     "data": {
      "text/plain": "0"
     },
     "execution_count": 36,
     "metadata": {},
     "output_type": "execute_result"
    }
   ],
   "source": [
    "ls = [(1,2)]\n",
    "ls.index((1, 2))"
   ],
   "metadata": {
    "collapsed": false,
    "pycharm": {
     "name": "#%%\n"
    }
   }
  }
 ],
 "metadata": {
  "kernelspec": {
   "display_name": "Python 3",
   "language": "python",
   "name": "python3"
  },
  "language_info": {
   "codemirror_mode": {
    "name": "ipython",
    "version": 2
   },
   "file_extension": ".py",
   "mimetype": "text/x-python",
   "name": "python",
   "nbconvert_exporter": "python",
   "pygments_lexer": "ipython2",
   "version": "2.7.6"
  }
 },
 "nbformat": 4,
 "nbformat_minor": 0
}