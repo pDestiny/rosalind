{
 "cells": [
  {
   "cell_type": "code",
   "execution_count": 14,
   "metadata": {
    "collapsed": true
   },
   "outputs": [],
   "source": [
    "import toolz as tz\n",
    "from toolz.curried import *\n",
    "from operator import *"
   ]
  },
  {
   "cell_type": "code",
   "execution_count": 26,
   "outputs": [
    {
     "data": {
      "text/plain": "2.17"
     },
     "execution_count": 26,
     "metadata": {},
     "output_type": "execute_result"
    }
   ],
   "source": [
    "input_data = {\n",
    "    \"sample\": {\n",
    "        \"fasta\": \"\"\">Rosalind_0209\n",
    "GCAACGCACAACGAAAACCCTTAGGGACTGGATTATTTCGTGATCGTTGTAGTTATTGGA\n",
    "AGTACGGGCATCAACCCAGTT\n",
    ">Rosalind_2200\n",
    "TTATCTGACAAAGAAAGCCGTCAACGGCTGGATAATTTCGCGATCGTGCTGGTTACTGGC\n",
    "GGTACGAGTGTTCCTTTGGGT\"\"\"\n",
    "    },\n",
    "    \"test\": {\n",
    "        \"fasta\": open(\"data/rosalind_tran.txt\", \"r\").read()\n",
    "    }\n",
    "}\n",
    "\n",
    "cur_state = \"test\"\n",
    "cur_data = input_data[cur_state]\n",
    "\n",
    "def get_seq(ls):\n",
    "    seqs = [\"\"] * tz.count(filter(lambda x: x.startswith(\">\"), ls))\n",
    "    i = -1\n",
    "    for line in ls:\n",
    "        if line.startswith(\">\"):\n",
    "            i += 1\n",
    "        else:\n",
    "            seqs[i] += line\n",
    "    return seqs\n",
    "\n",
    "input_processor = compose(get_seq, flip(str.split, \"\\n\"))\n",
    "\n",
    "def convert_seqs(seqs):\n",
    "    replace = {\n",
    "        \"A\": 0, \"C\":1, \"G\": 2, \"T\": 3\n",
    "    }\n",
    "    return [[replace[x] for x in seq] for seq in seqs]\n",
    "\n",
    "def get_ratio(num_seqs):\n",
    "    transition = 0\n",
    "    transversion = 0\n",
    "    for i in range(count(first(num_seqs))):\n",
    "        nt_1 = get(i, first(num_seqs))\n",
    "        nt_2 = get(i, last(num_seqs))\n",
    "        if nt_1 != nt_2:\n",
    "            if (nt_1 + nt_2) % 2 == 0:\n",
    "                transition += 1\n",
    "            else:\n",
    "                transversion += 1\n",
    "    return transition / transversion\n",
    "\n",
    "run = compose(get_ratio, convert_seqs, input_processor)\n",
    "\n",
    "run(cur_data[\"fasta\"])\n",
    "\n"
   ],
   "metadata": {
    "collapsed": false,
    "pycharm": {
     "name": "#%%\n"
    }
   }
  }
 ],
 "metadata": {
  "kernelspec": {
   "display_name": "Python 3",
   "language": "python",
   "name": "python3"
  },
  "language_info": {
   "codemirror_mode": {
    "name": "ipython",
    "version": 2
   },
   "file_extension": ".py",
   "mimetype": "text/x-python",
   "name": "python",
   "nbconvert_exporter": "python",
   "pygments_lexer": "ipython2",
   "version": "2.7.6"
  }
 },
 "nbformat": 4,
 "nbformat_minor": 0
}