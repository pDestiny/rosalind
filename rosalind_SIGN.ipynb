{
 "cells": [
  {
   "cell_type": "markdown",
   "source": [],
   "metadata": {
    "collapsed": false
   }
  },
  {
   "cell_type": "code",
   "execution_count": 2,
   "metadata": {
    "collapsed": true
   },
   "outputs": [],
   "source": [
    "from itertools import permutations, combinations\n",
    "import toolz as tz\n",
    "from toolz.curried import *"
   ]
  },
  {
   "cell_type": "code",
   "execution_count": null,
   "outputs": [],
   "source": [
    "input_data = {\n",
    "    \"sample\": {\n",
    "        \"n\": 2\n",
    "    },\n",
    "    \"test\": {\n",
    "        \"n\": int(open(\"data/rosalind_sign.txt\", \"r\").read().strip())\n",
    "    }\n",
    "}\n",
    "\n",
    "cur_state = \"sample\"\n",
    "cur_data = input_data[cur_state]\n",
    "\n",
    "def signed_permutations(n):\n",
    "    # 0 제외\n",
    "    ls = [i for i in range(-n, n+1) if i != 0]\n",
    "\n",
    "    # 2nPn 순열을 모두 구한다.\n",
    "    permus = permutations(ls, n)\n",
    "    for p in permus:\n",
    "        # 각 순열의 경우의 수를 nC2 조합을 구한 뒤에 각 조합의 합 중에 0이 없을 경우 통과시킨다.\n",
    "        if all(map(sum, combinations(p, 2))):\n",
    "            yield p\n",
    "\n",
    "def print_permutations(permus):\n",
    "    print(tz.count(permus))\n",
    "    for p in permus:\n",
    "        print(*p)\n",
    "\n",
    "run = compose(print_permutations,list, signed_permutations)\n",
    "\n",
    "run(cur_data[\"n\"])"
   ],
   "metadata": {
    "collapsed": false,
    "pycharm": {
     "name": "#%%\n",
     "is_executing": true
    }
   }
  }
 ],
 "metadata": {
  "kernelspec": {
   "display_name": "Python 3",
   "language": "python",
   "name": "python3"
  },
  "language_info": {
   "codemirror_mode": {
    "name": "ipython",
    "version": 2
   },
   "file_extension": ".py",
   "mimetype": "text/x-python",
   "name": "python",
   "nbconvert_exporter": "python",
   "pygments_lexer": "ipython2",
   "version": "2.7.6"
  }
 },
 "nbformat": 4,
 "nbformat_minor": 0
}