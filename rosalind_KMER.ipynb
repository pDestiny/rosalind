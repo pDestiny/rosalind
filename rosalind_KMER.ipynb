{
 "cells": [
  {
   "cell_type": "markdown",
   "metadata": {},
   "source": [
    "# Problem\n",
    "\n",
    "For a fixed positive integer $k$, order all possible $k$-mers taken from an underlying alphabet **lexicographically**.\n",
    "\n",
    "Then the $k$-mer composition of a string s can be represented by an array $A$ for which $A[m]$ denotes the number of times that the mth k-mer (with respect to the lexicographic order) appears in $s$.\n",
    "\n",
    "**Given** : A DNA string $s$ in FASTA format (having length at most 100 kbp).\n",
    "\n",
    "**Return** : The 4-mer composition of $s$."
   ]
  },
  {
   "cell_type": "code",
   "execution_count": 10,
   "metadata": {},
   "outputs": [],
   "source": [
    "import toolz as tz\n",
    "from toolz.curried import *\n",
    "from operator import *\n",
    "from itertools import product"
   ]
  },
  {
   "cell_type": "code",
   "execution_count": 16,
   "metadata": {},
   "outputs": [
    {
     "name": "stdout",
     "output_type": "stream",
     "text": [
      "354 336 385 355 346 344 360 349 337 348 350 369 317 367 363 361 347 327 333 366 318 321 365 321 330 349 354 356 363 344 338 335 325 343 342 323 338 348 344 324 331 343 358 350 366 335 356 375 345 311 321 343 362 324 353 338 391 329 365 349 347 320 334 333 368 340 334 342 314 300 347 323 333 321 340 364 334 335 361 309 358 299 315 339 302 319 342 305 345 347 349 357 322 311 347 339 339 337 324 338 316 337 365 348 373 305 365 319 352 358 351 372 343 353 341 317 338 334 320 344 337 325 362 347 377 337 365 312 344 370 334 365 367 349 320 330 338 352 357 345 339 331 355 353 341 322 344 296 365 298 356 339 327 329 340 373 340 319 329 371 371 355 356 364 329 345 330 352 362 382 358 343 361 341 330 346 385 385 334 322 357 342 321 362 364 318 356 353 374 355 329 399 364 353 351 346 345 332 362 378 325 333 335 354 330 344 355 311 338 336 366 338 326 330 335 354 336 341 319 347 329 363 357 346 378 331 370 353 320 328 330 335 380 326 364 366 347 348 354 364 341 368 351 358 321 345 349 351 340 341 353 364 320 354 370 336\n"
     ]
    }
   ],
   "source": [
    "input_data = {\n",
    "    \"sample\": {\n",
    "        \"fasta\":\"\"\">Rosalind_6431\n",
    "CTTCGAAAGTTTGGGCCGAGTCTTACAGTCGGTCTTGAAGCAAAGTAACGAACTCCACGG\n",
    "CCCTGACTACCGAACCAGTTGTGAGTACTCAACTGGGTGAGAGTGCAGTCCCTATTGAGT\n",
    "TTCCGAGACTCACCGGGATTTTCGATCCAGCCTCAGTCCAGTCTTGTGGCCAACTCACCA\n",
    "AATGACGTTGGAATATCCCTGTCTAGCTCACGCAGTACTTAGTAAGAGGTCGCTGCAGCG\n",
    "GGGCAAGGAGATCGGAAAATGTGCTCTATATGCGACTAAAGCTCCTAACTTACACGTAGA\n",
    "CTTGCCCGTGTTAAAAACTCGGCTCACATGCTGTCTGCGGCTGGCTGTATACAGTATCTA\n",
    "CCTAATACCCTTCAGTTCGCCGCACAAAAGCTGGGAGTTACCGCGGAAATCACAG\"\"\"\n",
    "    },\n",
    "    \"test\": {\n",
    "        \"fasta\": open(\"data/rosalind_kmer.txt\", \"r\").read()\n",
    "    }\n",
    "}\n",
    "cur_state = \"test\"\n",
    "cur_data = input_data[cur_state]\n",
    "\n",
    "input_processor = compose(''.join, list, tz.concat, map(list), filter(lambda x: not x.startswith(\">\") and bool(x)),  flip(str.split, \"\\n\"))\n",
    "\n",
    "@curry\n",
    "def kmer_composition(k, dna_seq):\n",
    "    kmer_seq = list(map(''.join, tz.sliding_window(k, dna_seq)))\n",
    "    whole_kmer = map(''.join, product([\"A\", \"T\", \"G\", \"C\"], repeat=k))\n",
    "    A = {kmer:0 for kmer in whole_kmer}\n",
    "    for kmer in kmer_seq:\n",
    "        A[kmer] += 1\n",
    "\n",
    "    return map(last,sorted(A.items(), key=first))\n",
    "\n",
    "four_mer_composition = kmer_composition(4)\n",
    "\n",
    "run = compose(four_mer_composition, input_processor)\n",
    "\n",
    "print(*run(cur_data[\"fasta\"]))"
   ]
  },
  {
   "cell_type": "code",
   "execution_count": 14,
   "metadata": {},
   "outputs": [
    {
     "data": {
      "text/plain": [
       "False"
      ]
     },
     "execution_count": 14,
     "metadata": {},
     "output_type": "execute_result"
    }
   ],
   "source": [
    "bool('')"
   ]
  }
 ],
 "metadata": {
  "interpreter": {
   "hash": "b3ba2566441a7c06988d0923437866b63cedc61552a5af99d1f4fb67d367b25f"
  },
  "kernelspec": {
   "display_name": "Python 3.8.5 64-bit ('base': conda)",
   "language": "python",
   "name": "python3"
  },
  "language_info": {
   "codemirror_mode": {
    "name": "ipython",
    "version": 3
   },
   "file_extension": ".py",
   "mimetype": "text/x-python",
   "name": "python",
   "nbconvert_exporter": "python",
   "pygments_lexer": "ipython3",
   "version": "3.8.5"
  },
  "orig_nbformat": 4
 },
 "nbformat": 4,
 "nbformat_minor": 2
}
