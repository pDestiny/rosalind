{
 "cells": [
  {
   "cell_type": "markdown",
   "source": [
    "## Problem\n",
    "An directed graph is connected if there is a path connecting any two nodes. A tree is a connected (undirected) graph containing no cycles; this definition forces the tree to have a branching structure organized arounda central core of nodes, just like its living counterpart.\n",
    "\n",
    "We have already grown familiar with trees in \"Mendel's first law\", where we introudced the probability tree diagram to visualize the outcomes of a random variable.\n",
    "\n",
    "In the creation of pylogeny, taxa are encoded by the tree's leaves, or nodes having degree 1. A node of a tree having degree larger than 1 is called an internal node.\n",
    "\n",
    "**Given**: A positive integer n(n<= 1000) and a adjacency list corresponding to a graph on n nodes that contains no cycles.\n",
    "**Return** : The minimum number of edges that can be added to the graph to produce a tree\n"
   ],
   "metadata": {
    "collapsed": false
   }
  },
  {
   "cell_type": "code",
   "execution_count": 1,
   "source": [
    "import networkx as nx\r\n",
    "import toolz as tz\r\n",
    "from toolz.curried import *"
   ],
   "outputs": [],
   "metadata": {
    "collapsed": true
   }
  },
  {
   "cell_type": "code",
   "execution_count": 2,
   "source": [
    "input_data = {\r\n",
    "    \"sample\": {\r\n",
    "        \"n\": 10,\r\n",
    "        \"adj_list\": \"\"\"1 2\r\n",
    "2 8\r\n",
    "4 10\r\n",
    "5 9\r\n",
    "6 10\r\n",
    "7 9\"\"\"\r\n",
    "    }\r\n",
    "}\r\n",
    "\r\n",
    "with open(\"data/rosalind_tree.txt\", \"r\") as f:\r\n",
    "    input_data[\"test\"] = {\r\n",
    "        \"n\": int(f.readline().strip()),\r\n",
    "        \"adj_list\": f.read().strip()\r\n",
    "    }\r\n",
    "\r\n",
    "cur_state = \"test\"\r\n",
    "cur_data = input_data[cur_state]\r\n",
    "\r\n",
    "input_processor = compose(len, flip(str.split, \"\\n\"))\r\n",
    "\r\n",
    "@tz.curry\r\n",
    "def get_required_edge_num(n, num_edges):\r\n",
    "    return (n - 1) - num_edges\r\n",
    "\r\n",
    "run = compose(get_required_edge_num(cur_data[\"n\"]), input_processor)\r\n",
    "\r\n",
    "run(cur_data[\"adj_list\"])"
   ],
   "outputs": [
    {
     "output_type": "execute_result",
     "data": {
      "text/plain": [
       "90"
      ]
     },
     "metadata": {},
     "execution_count": 2
    }
   ],
   "metadata": {
    "collapsed": false,
    "pycharm": {
     "name": "#%%\n"
    }
   }
  }
 ],
 "metadata": {
  "kernelspec": {
   "name": "python3",
   "display_name": "Python 3.7.6 64-bit (conda)"
  },
  "language_info": {
   "name": "python",
   "version": "3.7.6",
   "mimetype": "text/x-python",
   "codemirror_mode": {
    "name": "ipython",
    "version": 3
   },
   "pygments_lexer": "ipython3",
   "nbconvert_exporter": "python",
   "file_extension": ".py"
  },
  "interpreter": {
   "hash": "36248a776fe9c3c2233c48e81710f1548f08772896cba25a414bcd432f19dde0"
  }
 },
 "nbformat": 4,
 "nbformat_minor": 2
}