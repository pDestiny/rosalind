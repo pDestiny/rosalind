{
 "cells": [
  {
   "cell_type": "markdown",
   "source": [
    "## Problem\n",
    "An directed graph is connected if there is a path connecting any two nodes. A tree is a connected (undirected) graph containing no cycles; this definition forces the tree to have a branching structure organized arounda central core of nodes, just like its living counterpart.\n",
    "\n",
    "We have already grown familiar with trees in \"Mendel's first law\", where we introudced the probability tree diagram to visualize the outcomes of a random variable.\n",
    "\n",
    "In the creation of pylogeny, taxa are encoded by the tree's leaves, or nodes having degree 1. A node of a tree having degree larger than 1 is called an internal node.\n",
    "\n",
    "**Given**: A positive integer n(n<= 1000) and a adjacency list corresponding to a graph on n nodes that contains no cycles.\n",
    "**Return** : The minimum number of edges that can be added to the graph to produce a tree\n"
   ],
   "metadata": {
    "collapsed": false
   }
  },
  {
   "cell_type": "code",
   "execution_count": 3,
   "metadata": {
    "collapsed": true
   },
   "outputs": [],
   "source": [
    "import networkx as nx\n",
    "import toolz as tz\n",
    "from toolz.curried import *"
   ]
  },
  {
   "cell_type": "code",
   "execution_count": 45,
   "outputs": [
    {
     "data": {
      "text/plain": "90"
     },
     "execution_count": 45,
     "metadata": {},
     "output_type": "execute_result"
    }
   ],
   "source": [
    "input_data = {\n",
    "    \"sample\": {\n",
    "        \"n\": 10,\n",
    "        \"adj_list\": \"\"\"1 2\n",
    "2 8\n",
    "4 10\n",
    "5 9\n",
    "6 10\n",
    "7 9\"\"\"\n",
    "    }\n",
    "}\n",
    "\n",
    "with open(\"data/rosalind_tree.txt\", \"r\") as f:\n",
    "    input_data[\"test\"] = {\n",
    "        \"n\": int(f.readline().strip()),\n",
    "        \"adj_list\": f.read().strip()\n",
    "    }\n",
    "\n",
    "cur_state = \"test\"\n",
    "cur_data = input_data[cur_state]\n",
    "\n",
    "input_processor = compose(list, map(lambda x: [int(num) for num in x.split(\" \")]),flip(str.split, \"\\n\"))\n",
    "\n",
    "# label propagation\n",
    "def make_g(adj_list):\n",
    "    g = {item: [] for item  in unique(concat(adj_list))}\n",
    "    for n_1, n_2 in adj_list:\n",
    "        g[n_1].append(n_2)\n",
    "        g[n_2].append(n_1)\n",
    "    return g\n",
    "\n",
    "\n",
    "@tz.curry\n",
    "def get_required_edge_num(n, g):\n",
    "    edges_n = 0\n",
    "    for node, neighbors in g.items():\n",
    "        edges_n += len(neighbors)\n",
    "\n",
    "    return (n - 1) - int((edges_n / 2))\n",
    "\n",
    "run = compose(get_required_edge_num(cur_data[\"n\"]), make_g, input_processor)\n",
    "\n",
    "run(cur_data[\"adj_list\"])"
   ],
   "metadata": {
    "collapsed": false,
    "pycharm": {
     "name": "#%%\n"
    }
   }
  }
 ],
 "metadata": {
  "kernelspec": {
   "display_name": "Python 3",
   "language": "python",
   "name": "python3"
  },
  "language_info": {
   "codemirror_mode": {
    "name": "ipython",
    "version": 2
   },
   "file_extension": ".py",
   "mimetype": "text/x-python",
   "name": "python",
   "nbconvert_exporter": "python",
   "pygments_lexer": "ipython2",
   "version": "2.7.6"
  }
 },
 "nbformat": 4,
 "nbformat_minor": 0
}