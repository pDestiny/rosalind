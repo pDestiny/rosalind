{
 "cells": [
  {
   "cell_type": "markdown",
   "source": [
    "# Problem\n",
    "A matching in a graph is a **noncrossing** if none of its edges cross each other. If we assume that the $n$ nodes of this graph are arranged around a circle, and if we label these nodes with positive integers between 1 and n, then a matching is noncrossing as long as there are not edges {i, j} and {k, l} such that i < k < j < l\n",
    "\n",
    "A noncrossing matching of basepair edges in the bounding graph corresponding to an RNA string will correspond to a possible secondary structure of the underlying RNA strand that lacks pseudoknots.\n",
    "\n",
    "In this problem, we will consider counting noncrossing perfect matchings of basepair edges. As a motivating example of how to count noncrossing perfect matchings, let $c_n$ denote the number of noncrossing perfect matchings in the complete graph $K_{2n}$. After setting $c_0 = 1$, we can see that $c_1$ should equal 1 as well. As for the case of a general n, say that the nodes of $K_{2n}$ are labeled with the positive integers from 1 to 2n. We can join node 1 to any of remaining 2n - 1 nodes; yet once we have chosen this node(say m), we cannot add another edge to the matching that crosses the edge {1, m}. As a result, we must match all the edges on one side of {1, m} to each other. This requirement forces m to be even, so that we can write m = 2k for some positive integer k.\n",
    "\n",
    "There are 2k-2 nodes on one side of {1, m} and 2n - 2k nodes on the other side of {1, m}, so that in turn there will be $c_{k-1} \\cdot c_{n-k}$ different ways of forming a perfect matching on the remaining nodes of $K_{2n}$. If we let m vary over all possible n-1 choices of even numbers between 1 and 2n, then we obtain the recurrence relation $c_n = \\sum^n_{k=1}c_{k-1} \\cdot c_{n-k}$. The resulting numbers $c_n$ counting noncrossing perfect matchings in $K_{2n}$ are called the Catalan numbers, and they appear in a huge number of other settings.\n",
    "\n",
    "**Given** : An RNA string s having the same number of occurrences of 'A' as 'U' and the same number of occurrences of 'C' as 'G'. The length of the string is at most 300bp\n",
    "\n",
    "**Return** : The total number of noncrossing perfect matchings of basepair edges in the bonding graph of s, modulo 1,000,000"
   ],
   "metadata": {
    "collapsed": false
   }
  },
  {
   "cell_type": "code",
   "execution_count": 17,
   "outputs": [],
   "source": [
    "import toolz as tz\n",
    "from toolz.curried import *\n",
    "from operator import *\n",
    "from functools import lru_cache"
   ],
   "metadata": {
    "collapsed": false,
    "pycharm": {
     "name": "#%%\n"
    }
   }
  },
  {
   "cell_type": "code",
   "execution_count": 34,
   "metadata": {
    "collapsed": true
   },
   "outputs": [
    {
     "name": "stdout",
     "output_type": "stream",
     "text": [
      "AUCG\n"
     ]
    },
    {
     "data": {
      "text/plain": "2"
     },
     "execution_count": 34,
     "metadata": {},
     "output_type": "execute_result"
    }
   ],
   "source": [
    "input_data = {\n",
    "    \"sample\": {\n",
    "        \"fasta\": \"\"\">Rosalind_57\n",
    "AUCG\"\"\"\n",
    "    },\n",
    "    \"test\": {\n",
    "        \"fasta\": open(\"data/rosalind_cat.txt\", \"r\").read()\n",
    "    }\n",
    "}\n",
    "\n",
    "cur_state = \"sample\"\n",
    "cur_data = input_data[cur_state]\n",
    "\n",
    "input_processor = compose(\n",
    "    reduce(add),\n",
    "    filter(lambda x: not x.startswith(\">\") and tz.identity(x)),\n",
    "    flip(str.split, \"\\n\"))\n",
    "\n"
   ]
  }
 ],
 "metadata": {
  "kernelspec": {
   "display_name": "Python 3",
   "language": "python",
   "name": "python3"
  },
  "language_info": {
   "codemirror_mode": {
    "name": "ipython",
    "version": 2
   },
   "file_extension": ".py",
   "mimetype": "text/x-python",
   "name": "python",
   "nbconvert_exporter": "python",
   "pygments_lexer": "ipython2",
   "version": "2.7.6"
  }
 },
 "nbformat": 4,
 "nbformat_minor": 0
}