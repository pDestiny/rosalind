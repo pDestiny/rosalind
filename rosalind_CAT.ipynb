{
 "cells": [
  {
   "cell_type": "markdown",
   "source": [
    "# Problem\n",
    "A matching in a graph is a **noncrossing** if none of its edges cross each other. If we assume that the $n$ nodes of this graph are arranged around a circle, and if we label these nodes with positive integers between 1 and n, then a matching is noncrossing as long as there are not edges {i, j} and {k, l} such that i < k < j < l\n",
    "\n",
    "A noncrossing matching of basepair edges in the bounding graph corresponding to an RNA string will correspond to a possible secondary structure of the underlying RNA strand that lacks pseudoknots.\n",
    "\n",
    "In this problem, we will consider counting noncrossing perfect matchings of basepair edges. As a motivating example of how to count noncrossing perfect matchings, let $c_n$ denote the number of noncrossing perfect matchings in the complete graph $K_{2n}$. After setting $c_0 = 1$, we can see that $c_1$ should equal 1 as well. As for the case of a general n, say that the nodes of $K_{2n}$ are labeled with the positive integers from 1 to 2n. We can join node 1 to any of remaining 2n - 1 nodes; yet once we have chosen this node(say m), we cannot add another edge to the matching that crosses the edge {1, m}. As a result, we must match all the edges on one side of {1, m} to each other. This requirement forces m to be even, so that we can write m = 2k for some positive integer k.\n",
    "\n",
    "There are 2k-2 nodes on one side of {1, m} and 2n - 2k nodes on the other side of {1, m}, so that in turn there will be $c_{k-1} \\cdot c_{n-k}$ different ways of forming a perfect matching on the remaining nodes of $K_{2n}$. If we let m vary over all possible n-1 choices of even numbers between 1 and 2n, then we obtain the recurrence relation $c_n = \\sum^n_{k=1}c_{k-1} \\cdot c_{n-k}$. The resulting numbers $c_n$ counting noncrossing perfect matchings in $K_{2n}$ are called the Catalan numbers, and they appear in a huge number of other settings.\n",
    "\n",
    "**Given** : An RNA string s having the same number of occurrences of 'A' as 'U' and the same number of occurrences of 'C' as 'G'. The length of the string is at most 300bp\n",
    "\n",
    "**Return** : The total number of noncrossing perfect matchings of basepair edges in the bonding graph of s, modulo 1,000,000"
   ],
   "metadata": {
    "collapsed": false
   }
  },
  {
   "cell_type": "code",
   "execution_count": 1,
   "source": [
    "import toolz as tz\r\n",
    "from toolz.curried import *\r\n",
    "from operator import *\r\n",
    "from functools import lru_cache"
   ],
   "outputs": [],
   "metadata": {
    "collapsed": false,
    "pycharm": {
     "name": "#%%\n"
    }
   }
  },
  {
   "cell_type": "code",
   "execution_count": 3,
   "source": [
    "input_data = {\r\n",
    "    \"sample\": {\r\n",
    "        \"fasta\": \"\"\">Rosalind_57\r\n",
    "AUCGAUCGCG\"\"\"\r\n",
    "    },\r\n",
    "    \"test\": {\r\n",
    "        \"fasta\": open(\"data/rosalind_cat.txt\", \"r\").read()\r\n",
    "    }\r\n",
    "}\r\n",
    "\r\n",
    "cur_state = \"test\"\r\n",
    "cur_data = input_data[cur_state]\r\n",
    "\r\n",
    "input_processor = compose(\r\n",
    "    list,\r\n",
    "    map(lambda x: {\r\n",
    "        \"nt\": x[0], \"order\": x[1] \r\n",
    "    }),\r\n",
    "    lambda x: zip(x, range(len(x))),\r\n",
    "    reduce(add),\r\n",
    "    filter(lambda x: not x.startswith(\">\") and tz.identity(x)),\r\n",
    "    flip(str.split, \"\\n\"))\r\n",
    "\r\n",
    "input_processor(cur_data[\"fasta\"])\r\n",
    "\r\n",
    "def match(a, b):\r\n",
    "    if a[\"nt\"] == \"A\" and b[\"nt\"] == \"U\": return True\r\n",
    "    elif a[\"nt\"] == \"C\" and b[\"nt\"] == \"G\": return True\r\n",
    "    elif a[\"nt\"] == \"U\" and b[\"nt\"] == \"A\": return True\r\n",
    "    elif a[\"nt\"] == \"G\" and b[\"nt\"] == \"C\": return True\r\n",
    "    else: return False\r\n",
    "\r\n",
    "@tz.curry\r\n",
    "def meq(nt, x): return nt == x[\"nt\"]\r\n",
    "\r\n",
    "\r\n",
    "def tree(seq, mem={}):\r\n",
    "    # print(seq)\r\n",
    "    if len(seq) == 0: \r\n",
    "        return 1\r\n",
    "    \r\n",
    "    if len(seq) == 2 and match(first(seq), last(seq)):\r\n",
    "        return 1\r\n",
    "    s = list(map(get_in([\"nt\"]), seq))\r\n",
    "    if s.count(\"A\") != s.count(\"U\"):\r\n",
    "        return 0\r\n",
    "    \r\n",
    "    if s.count(\"C\") != s.count(\"G\"):\r\n",
    "        return 0\r\n",
    "\r\n",
    "    if ''.join(s) in mem.keys():\r\n",
    "        # print(\"in\")\r\n",
    "        return mem[''.join(s)]\r\n",
    "\r\n",
    "    start = first(seq)\r\n",
    "    cnt = 0\r\n",
    "    for target_idx in range(1, len(seq)):\r\n",
    "        if match(start, seq[target_idx]):\r\n",
    "            left = tree(seq[1:target_idx], mem=mem)\r\n",
    "            right = tree(seq[target_idx + 1:], mem=mem)\r\n",
    "            left_str = ''.join(list(map(get_in([\"nt\"]), seq[1:target_idx])))\r\n",
    "            right_str = ''.join(list(map(get_in([\"nt\"]), seq[target_idx+1:])))\r\n",
    "            mem[left_str] = left\r\n",
    "            mem[right_str] = right\r\n",
    "            cnt += left * right\r\n",
    "            # print(\"left : {} {} | right {} {}\".format(left_str, left, right_str, right))\r\n",
    "    return cnt\r\n",
    "\r\n",
    "run = compose(tree, input_processor)\r\n",
    "\r\n",
    "print(\"result :\", run(cur_data[\"fasta\"]) % 1_000_000)"
   ],
   "outputs": [
    {
     "output_type": "stream",
     "name": "stdout",
     "text": [
      "result : 88256\n"
     ]
    }
   ],
   "metadata": {
    "collapsed": true
   }
  },
  {
   "cell_type": "code",
   "execution_count": null,
   "source": [
    "''.join([])"
   ],
   "outputs": [
    {
     "output_type": "execute_result",
     "data": {
      "text/plain": [
       "''"
      ]
     },
     "metadata": {},
     "execution_count": 15
    }
   ],
   "metadata": {}
  }
 ],
 "metadata": {
  "kernelspec": {
   "name": "python3",
   "display_name": "Python 3.7.6 64-bit (conda)"
  },
  "language_info": {
   "name": "python",
   "version": "3.7.6",
   "mimetype": "text/x-python",
   "codemirror_mode": {
    "name": "ipython",
    "version": 3
   },
   "pygments_lexer": "ipython3",
   "nbconvert_exporter": "python",
   "file_extension": ".py"
  },
  "interpreter": {
   "hash": "36248a776fe9c3c2233c48e81710f1548f08772896cba25a414bcd432f19dde0"
  }
 },
 "nbformat": 4,
 "nbformat_minor": 2
}