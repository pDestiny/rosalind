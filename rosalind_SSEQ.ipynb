{
 "cells": [
  {
   "cell_type": "code",
   "execution_count": 1,
   "metadata": {
    "collapsed": true
   },
   "outputs": [],
   "source": [
    "import toolz as tz\n",
    "from toolz.curried import *\n",
    "from operator import *"
   ]
  },
  {
   "cell_type": "code",
   "execution_count": 7,
   "outputs": [
    {
     "name": "stdout",
     "output_type": "stream",
     "text": [
      "9 12 14 18 28 29 30 32 34 39 41 43 58 60 69 73 74 77\n"
     ]
    }
   ],
   "source": [
    "input_data = {\n",
    "    \"sample\": {\n",
    "        \"fasta\": \"\"\">Rosalind_14\n",
    "ACGTACGTGACG\n",
    ">Rosalind_18\n",
    "GTA\"\"\"\n",
    "    },\n",
    "    \"test\": {\n",
    "        \"fasta\":open(\"data/rosalind_sseq.txt\", \"r\").read()\n",
    "    }\n",
    "}\n",
    "\n",
    "\n",
    "cur_state = \"test\"\n",
    "cur_data = input_data[cur_state]\n",
    "\n",
    "def get_seq(ls):\n",
    "    seq = \"\"\n",
    "    start = True\n",
    "    for l in ls:\n",
    "        if l.startswith(\">\") and start:\n",
    "            start = False\n",
    "            continue\n",
    "        elif l.startswith(\">\"):\n",
    "            yield seq\n",
    "            seq = \"\"\n",
    "        else:\n",
    "            seq += l\n",
    "    yield seq\n",
    "\n",
    "def set_s_t(seqs):\n",
    "    d = {\n",
    "        \"s\": tz.first(seqs),\n",
    "        \"t\": tz.last(seqs)\n",
    "    }\n",
    "    return d\n",
    "\n",
    "def find_motif_loc(d):  # d에는 s 와 t 서열이 들어 있습니다.\n",
    "    idxes = [0] # sum 을 할때 빈 리스트를 합하면 error가 남으로 idxes에 0을 넣어줍니다.\n",
    "    s = d[\"s\"]\n",
    "    # t 서열을 iterate 합니다.\n",
    "    for t in d[\"t\"]:\n",
    "        # 이전까지의 인덱스를 합친 값의 인덱스로부터 다음 t 서열의 요소의 위치를 찾아냅니다.\n",
    "        next_idx = d[\"s\"][sum(idxes):].index(t) + 1\n",
    "        idxes.append(next_idx) # idxes에 추가합니다.\n",
    "\n",
    "    # 맨 처음 값을 제외하고 idxes를 누적한 리스트를 반환합니다.\n",
    "    return tail(len(d[\"t\"]),accumulate(add, idxes))\n",
    "\n",
    "\n",
    "input_processor = compose(filter(tz.identity),flip(str.split, \"\\n\"))\n",
    "\n",
    "run = compose(list, find_motif_loc,set_s_t, get_seq, input_processor)\n",
    "\n",
    "print(*run(cur_data[\"fasta\"]))"
   ],
   "metadata": {
    "collapsed": false,
    "pycharm": {
     "name": "#%%\n"
    }
   }
  }
 ],
 "metadata": {
  "kernelspec": {
   "display_name": "Python 3",
   "language": "python",
   "name": "python3"
  },
  "language_info": {
   "codemirror_mode": {
    "name": "ipython",
    "version": 2
   },
   "file_extension": ".py",
   "mimetype": "text/x-python",
   "name": "python",
   "nbconvert_exporter": "python",
   "pygments_lexer": "ipython2",
   "version": "2.7.6"
  }
 },
 "nbformat": 4,
 "nbformat_minor": 0
}